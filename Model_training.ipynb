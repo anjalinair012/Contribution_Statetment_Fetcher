{
  "cells": [
    {
      "cell_type": "markdown",
      "source": [
        "# Tranining a language model to classify lines as contributing or non-contributing"
      ],
      "metadata": {
        "id": "6NFHlRCQc0E9"
      }
    },
    {
      "cell_type": "code",
      "execution_count": null,
      "metadata": {
        "id": "7kTAYzFStcAE"
      },
      "outputs": [],
      "source": [
        "# from google.colab import drive\n",
        "# drive.mount('/content/drive')\n"
      ]
    },
    {
      "cell_type": "code",
      "execution_count": null,
      "metadata": {
        "id": "sAT1gKyJE-re"
      },
      "outputs": [],
      "source": [
        "!pip install transformers"
      ]
    },
    {
      "cell_type": "code",
      "execution_count": null,
      "metadata": {
        "id": "rQIuTCg44SWi"
      },
      "outputs": [],
      "source": [
        "%matplotlib inline\n",
        "import tensorflow as tf\n",
        "import random\n",
        "import os\n",
        "import glob\n",
        "import pandas as pd\n",
        "from transformers import AutoModel, AutoTokenizer, TFAutoModelForSequenceClassification\n",
        "import numpy as np\n",
        "from tensorflow.keras.optimizers import Adam\n",
        "from sklearn.model_selection import GridSearchCV\n",
        "from sklearn.model_selection import train_test_split\n",
        "import matplotlib.pyplot as plt\n",
        "from sklearn.metrics import confusion_matrix"
      ]
    },
    {
      "cell_type": "markdown",
      "source": [
        "## Model training"
      ],
      "metadata": {
        "id": "SCHZ81aKdDCd"
      }
    },
    {
      "cell_type": "code",
      "execution_count": null,
      "metadata": {
        "id": "SaLadM9Sh06P"
      },
      "outputs": [],
      "source": [
        "def load_dataset(filename) -> pd.DataFrame:\n",
        "  return pd.read_csv(filename, header=0)"
      ]
    },
    {
      "cell_type": "code",
      "execution_count": null,
      "metadata": {
        "id": "7g-jtBA_GJUQ"
      },
      "outputs": [],
      "source": [
        "from tensorflow.keras.losses import SparseCategoricalCrossentropy\n",
        "from keras.callbacks import EarlyStopping, ModelCheckpoint\n",
        "\n",
        "\n",
        "def Tokenizer():\n",
        "    # Get the Bert Tokenizer\n",
        "    return AutoTokenizer.from_pretrained(\"distilbert-base-uncased\")\n",
        "\n",
        "\n",
        "@tf.autograph.experimental.do_not_convert\n",
        "def training(train_data, val_data) -> AutoModel:\n",
        "\n",
        "    # fine-tune the model\n",
        "    tokenizer = Tokenizer()\n",
        "\n",
        "    # Tokenize train and validation data\n",
        "    tokenized_train = tokenizer.batch_encode_plus(list(train_data[\"text\"]),padding = \"max_length\", truncation=True, max_length =  max_len, return_tensors=\"tf\")\n",
        "    tokenizer = Tokenizer()\n",
        "    tokenized_val = tokenizer.batch_encode_plus(list(val_data[\"text\"]),padding = \"max_length\", truncation=True, max_length =  max_len, return_tensors=\"tf\")\n",
        "    print(\"----------------Tokenized input-----------------\")\n",
        "    train_labels = np.array(train_data[\"label\"]).astype(np.float32)\n",
        "    val_labels = np.array(val_data[\"label\"]).astype(np.float32)\n",
        "\n",
        "    # Load the pretrained model\n",
        "    model = TFAutoModelForSequenceClassification.from_pretrained(\"distilbert-base-uncased\", num_labels = 2)\n",
        "    print(\"---------loaded model--------------------\")\n",
        "    # Freeze all except the classification layer\n",
        "    #model.bert.trainable = False\n",
        "\n",
        "    #set Early stop to prevent overfitting\n",
        "    es = EarlyStopping(monitor='val_loss', patience=1)  \n",
        "    checkpoint_dir = \"./checkpoints\"\n",
        "    checkpoint_prefix = os.path.join(checkpoint_dir, \"ckpt\")\n",
        "    checkpoint_callback = ModelCheckpoint(filepath=checkpoint_prefix, save_best_only=True, monitor='val_loss', mode='min')\n",
        "\n",
        "    optimizer = tf.keras.optimizers.Adam(learning_rate=5e-5, epsilon=1e-8)\n",
        "    #Add L2 regularisation\n",
        "    l2_reg = tf.keras.regularizers.l2(0.001)\n",
        "    for w in model.trainable_variables:\n",
        "        w = w + l2_reg(w)\n",
        "\n",
        "    model.compile(optimizer=optimizer,loss=SparseCategoricalCrossentropy(from_logits=True), metrics=['accuracy'])\n",
        "    print(\"compiled model\")\n",
        "    model.fit(dict(tokenized_train),train_labels, validation_data=(dict(tokenized_val),val_labels), batch_size = 16, epochs = 5, callbacks=[es, checkpoint_callback])\n",
        "    print(\"fitted\")\n",
        "    return model\n",
        "\n",
        "\n",
        "def evaluate(dataset: pd.DataFrame, model: AutoModel):\n",
        "   '''Evaluate the model'''\n",
        "\n",
        "    tokenizer = Tokenizer()\n",
        "    tokenized_data = tokenizer.batch_encode_plus(list(dataset[\"text\"]),padding = \"max_length\", truncation=True, max_length =  max_len, return_tensors=\"tf\")\n",
        "    labels = np.array(dataset[\"label\"]).astype(np.float32)\n",
        "    results = model.evaluate(dict(tokenized_data), labels)\n",
        "    return results\n",
        "\n",
        "\n",
        "def predict(dataset: pd.DataFrame, model: AutoModel):\n",
        "    '''Predictions from teh model'''\n",
        "\n",
        "    tokenizer = Tokenizer()\n",
        "    tokenized_data = tokenizer.batch_encode_plus(list(dataset[\"text\"]),padding = \"max_length\", truncation=True, max_length =  max_len,  return_tensors=\"tf\")\n",
        "    labels = np.array(dataset[\"label\"]).astype('float32')\n",
        "    logits = model.predict(dict(tokenized_data))  # softmax returns logits\n",
        "    return logits\n",
        "\n"
      ]
    },
    {
      "cell_type": "markdown",
      "source": [
        "## Data load and model evaluation"
      ],
      "metadata": {
        "id": "M_I6dHoadJQz"
      }
    },
    {
      "cell_type": "code",
      "execution_count": null,
      "metadata": {
        "id": "EVx39weoMsuf"
      },
      "outputs": [],
      "source": [
        "data = load_dataset(\"training-data-master/filtered_data_rand.csv\")\n",
        "data['label'] = data['label'].astype(np.float32)\n",
        "data = data.drop('Unnamed: 0', axis=1)\n",
        "max_len = 256  # maximum sequence length for bert\n",
        "\n",
        "# Test data\n",
        "test_data = load_dataset(\"test-data-master/filtered_data.csv\")\n",
        "test_data['label'] = test_data['label'].astype(np.float32)\n",
        "test_data = test_data.drop('Unnamed: 0', axis=1)"
      ]
    },
    {
      "cell_type": "code",
      "source": [
        "data.head()  #display data"
      ],
      "metadata": {
        "id": "4FbQOna_csVS"
      },
      "execution_count": null,
      "outputs": []
    },
    {
      "cell_type": "code",
      "execution_count": null,
      "metadata": {
        "id": "gjxW13CrY_OU"
      },
      "outputs": [],
      "source": [
        "train_dataset, val_dataset = train_test_split(data, test_size=0.3, random_state=42)  # split the dataset into train and test"
      ]
    },
    {
      "cell_type": "code",
      "execution_count": null,
      "metadata": {
        "id": "w3KzxG_eHI9-"
      },
      "outputs": [],
      "source": [
        "model = training(train_dataset, val_dataset)  # train"
      ]
    },
    {
      "cell_type": "code",
      "execution_count": null,
      "metadata": {
        "id": "_LEk2DG8SRtI"
      },
      "outputs": [],
      "source": [
        "model.save_pretrained('model_checkpoint/')\n",
        "!cp -r model_checkpoint/ \"/content/drive/My Drive/model_checkpoint/\""
      ]
    },
    {
      "cell_type": "code",
      "execution_count": null,
      "metadata": {
        "id": "LB7YZKF4bxlP"
      },
      "outputs": [],
      "source": [
        "# Running model with new test data\n",
        "logits = predict(test_data,model)\n",
        "results = np.argmax(logits[\"logits\"], axis=1).flatten()\n",
        "confusion_matrix_test = confusion_matrix(test_data[\"label\"], results, normalize=\"true\")\n",
        "confusion_matrix_test.ravel()"
      ]
    },
    {
      "cell_type": "code",
      "execution_count": null,
      "metadata": {
        "id": "mR-gTdNSIjse"
      },
      "outputs": [],
      "source": [
        "#Evaluating with validation data\n",
        "logits = predict(val_dataset,model)\n",
        "results = np.argmax(logits[\"logits\"], axis=1).flatten()\n",
        "confusion_matrix_eval = confusion_matrix(val_dataset[\"label\"], results, normalize=\"true\")\n",
        "confusion_matrix_eval.ravel() #(tn, fp, fn, tp)"
      ]
    },
    {
      "cell_type": "code",
      "execution_count": null,
      "metadata": {
        "colab": {
          "base_uri": "https://localhost:8080/",
          "height": 358
        },
        "id": "9R25JAxn97gN",
        "outputId": "7717e255-f493-4642-f55e-6415d91a9376"
      },
      "outputs": [
        {
          "data": {
            "image/png": "[encoded data removed]",
            "text/plain": [
              "<Figure size 360x360 with 1 Axes>"
            ]
          },
          "metadata": {},
          "output_type": "display_data"
        }
      ],
      "source": [
        "fig, ax = plt.subplots(figsize=(5, 5))\n",
        "ax.matshow(confusion_matrix_eval, cmap=plt.cm.Oranges, alpha=0.3)\n",
        "for i in range(confusion_matrix_eval.shape[0]):\n",
        "  for j in range(confusion_matrix_eval.shape[1]):\n",
        "    ax.text(x=j, y=i,s=confusion_matrix_eval[i, j], va='center', ha='center', size='small')\n",
        "plt.xlabel('Predictions', fontsize=18)\n",
        "plt.ylabel('Actuals', fontsize=18)\n",
        "plt.title('Confusion Matrix', fontsize=18)\n",
        "plt.show()"
      ]
    },
    {
      "cell_type": "code",
      "execution_count": null,
      "metadata": {
        "colab": {
          "base_uri": "https://localhost:8080/"
        },
        "id": "gKxa_3JN_RnW",
        "outputId": "4ae8b628-bedb-4ce2-b2b5-f322b476371d"
      },
      "outputs": [
        {
          "name": "stdout",
          "output_type": "stream",
          "text": [
            "Precision: 0.719\n",
            "Recall: 0.838\n",
            "F1 Score: 0.774\n",
            "Accuracy: 0.758\n"
          ]
        }
      ],
      "source": [
        "from sklearn.metrics import precision_score, recall_score, f1_score, accuracy_score\n",
        "print('Precision: %.3f' % precision_score(val_dataset[\"label\"], results))\n",
        "print('Recall: %.3f' % recall_score(val_dataset[\"label\"], results))\n",
        "print('F1 Score: %.3f' % f1_score(val_dataset[\"label\"], results))\n",
        "print('Accuracy: %.3f' % accuracy_score(val_dataset[\"label\"], results))"
      ]
    }
  ],
  "metadata": {
    "accelerator": "GPU",
    "colab": {
      "provenance": []
    },
    "gpuClass": "standard",
    "kernelspec": {
      "display_name": "Python 3",
      "name": "python3"
    },
    "language_info": {
      "name": "python"
    }
  },
  "nbformat": 4,
  "nbformat_minor": 0
}